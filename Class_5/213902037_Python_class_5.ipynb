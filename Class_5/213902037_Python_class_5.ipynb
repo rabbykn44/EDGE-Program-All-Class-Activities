{
  "nbformat": 4,
  "nbformat_minor": 0,
  "metadata": {
    "colab": {
      "private_outputs": true,
      "provenance": []
    },
    "kernelspec": {
      "name": "python3",
      "display_name": "Python 3"
    },
    "language_info": {
      "name": "python"
    }
  },
  "cells": [
    {
      "cell_type": "code",
      "execution_count": null,
      "metadata": {
        "id": "_ffeBUQgCMOM"
      },
      "outputs": [],
      "source": [
        "n = 2134\n",
        "print(int(str(n)[::-1]))\n",
        "\n",
        "\n"
      ]
    },
    {
      "cell_type": "code",
      "source": [],
      "metadata": {
        "id": "YfQiAgwCawvc"
      },
      "execution_count": null,
      "outputs": []
    },
    {
      "cell_type": "code",
      "source": [],
      "metadata": {
        "id": "_sWVp9gMax9P"
      },
      "execution_count": null,
      "outputs": []
    },
    {
      "cell_type": "code",
      "source": [
        "def Fractorial ():\n",
        "    n = int(input('put a number: '))\n",
        "    fact = 1\n",
        "    for i in range(1, n+1,1):\n",
        "        fact  *= i\n",
        "    print (fact)\n",
        "Factorial ()"
      ],
      "metadata": {
        "id": "VwOalheyGdts"
      },
      "execution_count": null,
      "outputs": []
    },
    {
      "cell_type": "code",
      "source": [
        "def FindGreatestNumber():\n",
        "    a = int(input('put a number:'))\n",
        "    b = int(input('put a number:'))\n",
        "    c = int(input('put a number:'))\n",
        "    if a > b and a > c:\n",
        "        print(a, 'is the largest number')\n",
        "    elif b > a and b > c:\n",
        "        print(b,'is the largest number')\n",
        "    else:\n",
        "        print(c,'is the largest number')\n",
        "FindGreatestNumber()\n"
      ],
      "metadata": {
        "id": "yZ9bRqr9HlAU"
      },
      "execution_count": null,
      "outputs": []
    },
    {
      "cell_type": "code",
      "source": [
        "def Example (num1, num2):\n",
        "       print (num1, num2)\n",
        "\n",
        "\n",
        "Example(10,20)"
      ],
      "metadata": {
        "id": "PUGHFlM_K6lS"
      },
      "execution_count": null,
      "outputs": []
    },
    {
      "cell_type": "code",
      "source": [
        "def circle_properties(radius):\n",
        "    area = 3.1416 * radius ** 2\n",
        "\n",
        "    return area\n",
        "\n",
        "r = int(input('Put a number for radius: '))\n",
        "\n",
        "print('area',area)\n",
        "\n"
      ],
      "metadata": {
        "id": "HtaipZGjMwvy"
      },
      "execution_count": null,
      "outputs": []
    },
    {
      "cell_type": "code",
      "source": [],
      "metadata": {
        "id": "ZXwQ1LsFQp6o"
      },
      "execution_count": null,
      "outputs": []
    },
    {
      "cell_type": "code",
      "source": [],
      "metadata": {
        "id": "tLWniZrccJZ4"
      },
      "execution_count": null,
      "outputs": []
    },
    {
      "cell_type": "code",
      "source": [
        "def Addition (n1, n2):\n",
        "     return n1 + n2\n",
        "def Subtraction (n1, n2):\n",
        "    return n1 - n2\n",
        "def Multiplication (n1, n2):\n",
        "    return n1 * n2\n",
        "def Division (n1, n2):\n",
        "    return n1 / n2\n",
        "result = Addition(5, 3)  # Example: adding 5 and 3\n",
        "print(result)"
      ],
      "metadata": {
        "id": "d-8RtO5AazHP"
      },
      "execution_count": null,
      "outputs": []
    },
    {
      "cell_type": "code",
      "source": [],
      "metadata": {
        "id": "_rNwsn6PdUOq"
      },
      "execution_count": null,
      "outputs": []
    },
    {
      "cell_type": "code",
      "source": [],
      "metadata": {
        "id": "F_AoAFdCdUzo"
      },
      "execution_count": null,
      "outputs": []
    },
    {
      "cell_type": "code",
      "source": [
        "def Ex():\n",
        "  global b\n",
        "  b = 10\n",
        "\n",
        "Ex()\n",
        "print(b)"
      ],
      "metadata": {
        "id": "INlKpZ9OcKHm"
      },
      "execution_count": null,
      "outputs": []
    },
    {
      "cell_type": "code",
      "source": [
        "addition = lambda a, b: a + b\n",
        "print(addition(2, 3))"
      ],
      "metadata": {
        "id": "pSIXINJmdWtA"
      },
      "execution_count": null,
      "outputs": []
    },
    {
      "cell_type": "code",
      "source": [
        "fn = 'sdfdsf'\n",
        "ln = 'dfdf'\n",
        "print (fn,ln)\n",
        "\n"
      ],
      "metadata": {
        "id": "9E29dwQHd-5m"
      },
      "execution_count": null,
      "outputs": []
    },
    {
      "cell_type": "markdown",
      "source": [
        "Write a Python Program to get First Name and Last Name, Pass to Lambda Function as Argument to Display Full Name\n",
        "Write a Python Program to get 3 Numbers from User to Add three Numbers using Lambda Function\n",
        "\n"
      ],
      "metadata": {
        "id": "yB4-L1BZeb7i"
      }
    },
    {
      "cell_type": "code",
      "source": [
        "Write a Python Program to get First Name and Last Name, Pass to Lambda Function as Argument to Display Full Name\n",
        "Write a Python Program to get 3 Numbers from User to Add three Numbers using Lambda Function\n",
        "\n"
      ],
      "metadata": {
        "id": "uqjSgqEEedTH"
      },
      "execution_count": null,
      "outputs": []
    },
    {
      "cell_type": "code",
      "source": [],
      "metadata": {
        "id": "Z7WRh2TqgZo1"
      },
      "execution_count": null,
      "outputs": []
    },
    {
      "cell_type": "code",
      "source": [
        "\n",
        "\n",
        "first_name = input(\"Enter your first name: \")\n",
        "last_name = input(\"Enter your last name: \")\n",
        "\n",
        "full_name = lambda fn, ln: fn + \" \" + ln\n",
        "\n",
        "print(\"Full Name:\", full_name(first_name, last_name))"
      ],
      "metadata": {
        "id": "zSrlVX8Yem_Y"
      },
      "execution_count": null,
      "outputs": []
    },
    {
      "cell_type": "code",
      "source": [
        "first_name = input(\"Enter your first name:\")\n",
        "last_name  = input(\"Enter your last name:\")\n",
        "\n",
        "full_name = lambda fn, ln: fn + \" \" + ln\n",
        "\n",
        "print(\"Full Name:\", full_name(first_name,last_name))"
      ],
      "metadata": {
        "id": "qAf88HAYe2NA"
      },
      "execution_count": null,
      "outputs": []
    },
    {
      "cell_type": "code",
      "source": [
        "first_name = input(\"Enter your first name: \")\n",
        "last_name = input(\"Enter your last name: \")\n",
        "\n",
        "full_name = lambda fn, ln: fn + \" \" + ln\n",
        "\n",
        "print(\"Full Name:\", full_name(first_name, last_name))"
      ],
      "metadata": {
        "id": "UXkIcHyVf53v"
      },
      "execution_count": null,
      "outputs": []
    },
    {
      "cell_type": "markdown",
      "source": [],
      "metadata": {
        "id": "bz7Fl4smgKQV"
      }
    },
    {
      "cell_type": "code",
      "source": [
        "\n",
        "num1 = int(input(\"Enter first number: \"))\n",
        "num2 = int(input(\"Enter second number: \"))\n",
        "num3 = int(input(\"Enter third number: \"))\n",
        "\n",
        "add_three_numbers = lambda x, y, z: x + y + z\n",
        "\n",
        "print(\"Sum of three numbers:\", add_three_numbers(num1, num2, num3))\n"
      ],
      "metadata": {
        "id": "wL130-0xgWqN"
      },
      "execution_count": null,
      "outputs": []
    },
    {
      "cell_type": "code",
      "source": [],
      "metadata": {
        "id": "4xSnmJpFhJ-z"
      },
      "execution_count": null,
      "outputs": []
    },
    {
      "cell_type": "code",
      "source": [
        "add_addition = lambda a, b, c: a + b + c\n",
        "add_addition = lambda a, b, c: a + b + c\n",
        "result = add_addition(2, 3, 4)\n",
        "print(result)"
      ],
      "metadata": {
        "id": "uUjjz_5TiQJd"
      },
      "execution_count": null,
      "outputs": []
    },
    {
      "cell_type": "code",
      "source": [
        "def Evaluate():\n",
        "    attempt = 3\n",
        "    count = 0\n",
        "\n",
        "    while count < attempt:\n",
        "        userid = input(\"User ID: \")\n",
        "        qualify = True\n",
        "\n",
        "        # Check if all characters in user ID are alphanumeric\n",
        "        for char in userid:\n",
        "            if not char.isalnum():\n",
        "                qualify = False\n",
        "                break\n",
        "\n",
        "        # Check length of user ID\n",
        "        if len(userid) < 8 or len(userid) > 20:\n",
        "            qualify = False\n",
        "\n",
        "        # If not qualified, increase count and continue\n",
        "        if not qualify:\n",
        "            count += 1\n",
        "            print(\"Invalid User ID. Please try again.\")\n",
        "            continue\n",
        "        else:\n",
        "            return True\n",
        "\n",
        "    return False\n",
        "\n",
        "# Function call to test the Evaluate function\n",
        "if Evaluate():\n",
        "    print(\"Valid User ID\")\n",
        "else:\n",
        "    print(\"Invalid User ID\")\n"
      ],
      "metadata": {
        "id": "7xYSRZQbiXRE"
      },
      "execution_count": null,
      "outputs": []
    }
  ]
}