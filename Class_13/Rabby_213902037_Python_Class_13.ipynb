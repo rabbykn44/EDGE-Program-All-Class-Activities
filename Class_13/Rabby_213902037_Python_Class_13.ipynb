{
  "nbformat": 4,
  "nbformat_minor": 0,
  "metadata": {
    "colab": {
      "private_outputs": true,
      "provenance": []
    },
    "kernelspec": {
      "name": "python3",
      "display_name": "Python 3"
    },
    "language_info": {
      "name": "python"
    }
  },
  "cells": [
    {
      "cell_type": "code",
      "execution_count": null,
      "metadata": {
        "id": "wxTzIk-Iagz6"
      },
      "outputs": [],
      "source": [
        "import numpy as np\n",
        "array = np.array ([10, 20,30, 40])\n",
        "print(array)"
      ]
    },
    {
      "cell_type": "code",
      "source": [
        "import numpy as np\n",
        "array_2d = np.array([[1,2],[3,4],[5,6]])\n",
        "print(array_2d)"
      ],
      "metadata": {
        "id": "OPzehhMbgCOr"
      },
      "execution_count": null,
      "outputs": []
    },
    {
      "cell_type": "code",
      "source": [
        "import numpy as np\n",
        "array_2d = np.array([[1,2],[3,4],[5,6]])\n",
        "print(array_2d)"
      ],
      "metadata": {
        "id": "Ae4VbvmPhQAB"
      },
      "execution_count": null,
      "outputs": []
    },
    {
      "cell_type": "code",
      "source": [
        "import numpy as np\n",
        "zeros_array = np.zeros((3,3))\n",
        "print(zeros_array)"
      ],
      "metadata": {
        "id": "tsQJsMbthxmC"
      },
      "execution_count": null,
      "outputs": []
    },
    {
      "cell_type": "code",
      "source": [
        "import numpy as np\n",
        "array = np.arange(10)\n",
        "print(array)"
      ],
      "metadata": {
        "id": "poJFzn6ciDAR"
      },
      "execution_count": null,
      "outputs": []
    },
    {
      "cell_type": "code",
      "source": [
        "import numpy as np\n",
        "ones_array = np.ones ((2,4))\n",
        "print(ones_array)"
      ],
      "metadata": {
        "id": "AQ7K8IDaiQ9g"
      },
      "execution_count": null,
      "outputs": []
    },
    {
      "cell_type": "code",
      "source": [
        "a = np.array ([1,2,3])\n",
        "b = np.array([4,5,6])\n",
        "print(a+b)\n",
        "print(a*b)"
      ],
      "metadata": {
        "id": "GmD7sJr6iejv"
      },
      "execution_count": null,
      "outputs": []
    },
    {
      "cell_type": "code",
      "source": [
        "array = np.array([1, 2, 3, 4])\n",
        "print(np.sum(array))\n",
        "print(np.mean(array))\n",
        "print(np.std(array))"
      ],
      "metadata": {
        "id": "uiSh3NF-jq8-"
      },
      "execution_count": null,
      "outputs": []
    },
    {
      "cell_type": "code",
      "source": [
        "a = np.array([[1, 2], [3, 4]])\n",
        "b = np.array([[5, 6], [7,8]])\n",
        "print(np.dot(a, b))\n"
      ],
      "metadata": {
        "id": "eAYEu6a8jxP1"
      },
      "execution_count": null,
      "outputs": []
    },
    {
      "cell_type": "code",
      "source": [
        "a = np.array([1, 2, 3])\n",
        "b = 2\n",
        "print(a * b)"
      ],
      "metadata": {
        "id": "muyC_iU0kzvt"
      },
      "execution_count": null,
      "outputs": []
    },
    {
      "cell_type": "code",
      "source": [
        "a = np.array([[1], [2], [3]])\n",
        "b = np.array([10, 20, 30])\n",
        "print(a + b)\n"
      ],
      "metadata": {
        "id": "PvAw782zlAs2"
      },
      "execution_count": null,
      "outputs": []
    },
    {
      "cell_type": "code",
      "source": [
        "data = np.array([1,2,3,4,5])\n",
        "normalized_data =(data - np.min(data)) / (np.max(data) - np.min(data))\n",
        "print(normalized_data)"
      ],
      "metadata": {
        "id": "fEzX1eqOmTl0"
      },
      "execution_count": null,
      "outputs": []
    },
    {
      "cell_type": "code",
      "source": [
        "random_data = np.random.rand (5)\n",
        "print(random_data)"
      ],
      "metadata": {
        "id": "M1GoAJYKmkf0"
      },
      "execution_count": null,
      "outputs": []
    },
    {
      "cell_type": "code",
      "source": [
        "import numpy as np\n",
        "a = np.array([1,2,3,4])\n",
        "b = np.array([5,6,7,8])\n",
        "result = a*b\n",
        "print(result)\n"
      ],
      "metadata": {
        "id": "T7JzFYham6TL"
      },
      "execution_count": null,
      "outputs": []
    },
    {
      "cell_type": "code",
      "source": [
        "a = np.array([1, 2, 3, 4])\n",
        "b = a[2:4]\n",
        "b[0] = 100\n",
        "print(a)"
      ],
      "metadata": {
        "id": "KYirT29Xnuca"
      },
      "execution_count": null,
      "outputs": []
    },
    {
      "cell_type": "code",
      "source": [
        "a = np.array([1,2,3,4])\n",
        "a *= 2\n",
        "print(a)"
      ],
      "metadata": {
        "id": "eZAxle4zoEaz"
      },
      "execution_count": null,
      "outputs": []
    },
    {
      "cell_type": "code",
      "source": [
        "a = np.array([[1,2],[3,4]])\n",
        "b = np.array"
      ],
      "metadata": {
        "id": "KKyER0s6pT6r"
      },
      "execution_count": null,
      "outputs": []
    },
    {
      "cell_type": "markdown",
      "source": [],
      "metadata": {
        "id": "Dcq7gXmQx46n"
      }
    },
    {
      "cell_type": "code",
      "source": [
        "a = np.array([1,2,3,4])\n",
        "b = a[2:4]\n",
        "b[0] = 100\n",
        "print(a)"
      ],
      "metadata": {
        "id": "buFZCFK5x7I9"
      },
      "execution_count": null,
      "outputs": []
    },
    {
      "cell_type": "code",
      "source": [
        "a = np.array([[1, 2], [3, 4]])\n",
        "b = np.array([[5, 6], [7, 8]])\n",
        "print(np.dot(a, b))"
      ],
      "metadata": {
        "id": "wo9WZavGyMx2"
      },
      "execution_count": null,
      "outputs": []
    },
    {
      "cell_type": "code",
      "source": [
        "import numpy as np\n",
        "a = np.array([1, 2, 3])\n",
        "b = np.array([4, 5, 6])\n",
        "print(a * b)"
      ],
      "metadata": {
        "id": "_gj7UdVHyUXl"
      },
      "execution_count": null,
      "outputs": []
    },
    {
      "cell_type": "code",
      "source": [
        "import numpy as np\n",
        "a = np.array([1, 2, 3])\n",
        "b = np.array([[4, 5, 6], [7, 8, 9]])\n",
        "print(a + b)"
      ],
      "metadata": {
        "id": "IuQK-qxNyc0c"
      },
      "execution_count": null,
      "outputs": []
    },
    {
      "cell_type": "code",
      "source": [
        "import numpy as np\n",
        "zeros_matrix = np.zeros((3, 3))\n",
        "updated_matrix = zeros_matrix + 5\n",
        "print(updated_matrix)"
      ],
      "metadata": {
        "id": "nAAfbJA7ygbU"
      },
      "execution_count": null,
      "outputs": []
    },
    {
      "cell_type": "code",
      "source": [
        "import numpy as np\n",
        "array = np.array([1, 2, 3, 4, 5, 6])\n",
        "split_array = np.split(array, 3)\n",
        "print(split_array)"
      ],
      "metadata": {
        "id": "leyLPDebykEX"
      },
      "execution_count": null,
      "outputs": []
    },
    {
      "cell_type": "code",
      "source": [
        "import numpy as np\n",
        "array = np.array([1, 2, 3, 4, 5, 6])\n",
        "split_array = np.split(array, 3)\n",
        "print(split_array)"
      ],
      "metadata": {
        "id": "2QBR3oiPyn05"
      },
      "execution_count": null,
      "outputs": []
    },
    {
      "cell_type": "code",
      "source": [
        "import numpy as np\n",
        "array = np.array([1, 2, 3, 4, 5])\n",
        "cumsum_array = np.cumsum(array)\n",
        "print(cumsum_array) # Output: [ 1 3 6 10 15]"
      ],
      "metadata": {
        "id": "k21B0u8Jyrw4"
      },
      "execution_count": null,
      "outputs": []
    },
    {
      "cell_type": "code",
      "source": [
        "import numpy as np\n",
        "random_int_matrix = np.random.randint(1, 100, (4, 4))\n",
        "print(random_int_matrix)"
      ],
      "metadata": {
        "id": "F1AazpToyvg9"
      },
      "execution_count": null,
      "outputs": []
    },
    {
      "cell_type": "code",
      "source": [
        "\n",
        "import numpy as np\n",
        "a = np.array([[1, 2], [3, 4]])\n",
        "transpose_a = np.transpose(a)\n",
        "print(transpose_a)"
      ],
      "metadata": {
        "id": "miLAIE-Iy1Ps"
      },
      "execution_count": null,
      "outputs": []
    }
  ]
}