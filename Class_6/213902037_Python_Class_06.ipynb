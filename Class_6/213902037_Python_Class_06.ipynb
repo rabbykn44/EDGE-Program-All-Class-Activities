{
  "nbformat": 4,
  "nbformat_minor": 0,
  "metadata": {
    "colab": {
      "private_outputs": true,
      "provenance": []
    },
    "kernelspec": {
      "name": "python3",
      "display_name": "Python 3"
    },
    "language_info": {
      "name": "python"
    }
  },
  "cells": [
    {
      "cell_type": "code",
      "execution_count": null,
      "metadata": {
        "id": "x9AyDpKsyWgq"
      },
      "outputs": [],
      "source": [
        "str1 ='Hello'\n",
        "srt2  ='World!'\n",
        "\n",
        "str3 = str1 + srt2\n",
        "print(str3)\n"
      ]
    },
    {
      "cell_type": "code",
      "source": [
        "fruit = 'bannana'\n",
        "letter = fruit[1]\n",
        "print(letter)"
      ],
      "metadata": {
        "id": "FbE0bviSzrmF"
      },
      "execution_count": null,
      "outputs": []
    },
    {
      "cell_type": "code",
      "source": [
        "fruit = 'bannana'\n",
        "letter = fruit[5]\n",
        "print(letter)"
      ],
      "metadata": {
        "id": "YQLZYOIM03xG"
      },
      "execution_count": null,
      "outputs": []
    },
    {
      "cell_type": "code",
      "source": [
        "str4 ='123'\n",
        "num = int(str4) + 1\n",
        "print (num)"
      ],
      "metadata": {
        "id": "rldfT9tb06DP"
      },
      "execution_count": null,
      "outputs": []
    },
    {
      "cell_type": "code",
      "source": [
        "str_= 'brown fox jump over the dog'\n",
        "i = 0\n",
        "while i < len(str):\n",
        "  print (str_[i])\n",
        "  i += 1\n"
      ],
      "metadata": {
        "id": "Lh833Wu81Wa_"
      },
      "execution_count": null,
      "outputs": []
    },
    {
      "cell_type": "code",
      "source": [
        "str_= 'brown fox jump over the dog'\n",
        "\n",
        "for char in str_:\n",
        "      print (char)"
      ],
      "metadata": {
        "id": "Rw4xQu7-18yw"
      },
      "execution_count": null,
      "outputs": []
    },
    {
      "cell_type": "code",
      "source": [
        "str_= 'brown fox jump over the dog'\n",
        "\n",
        "for char in str_:\n",
        "    if char == \" o\":\n",
        "      print (char)"
      ],
      "metadata": {
        "id": "UQDE6mxL2qiY"
      },
      "execution_count": null,
      "outputs": []
    },
    {
      "cell_type": "code",
      "source": [
        "def print_vowels(str_):\n",
        "    vowels = \"aeiouAEIOU\"\n",
        "    for char in str_:\n",
        "        if char in vowels:\n",
        "            print(char)\n",
        "\n",
        "\n",
        "str_ = 'brown fox jump over the dog'\n",
        "print_vowels(str_)"
      ],
      "metadata": {
        "id": "-JCPNUMO3vcf"
      },
      "execution_count": null,
      "outputs": []
    },
    {
      "cell_type": "code",
      "source": [
        "def print_vowels(str_):\n",
        "    vowels = \"aeiouAEIOU\"\n",
        "    str_vowels = ''\n",
        "    for char in str_:\n",
        "        if char in vowels:\n",
        "          str_vowels += char\n",
        "    return str_vowels\n",
        "\n",
        "\n",
        "str_ = 'brown fox jump over the dog'\n",
        "print_vowels(str_)"
      ],
      "metadata": {
        "id": "rTyXM_F_5Am5"
      },
      "execution_count": null,
      "outputs": []
    },
    {
      "cell_type": "code",
      "source": [
        "s = 'Monty Python'\n",
        "print(s[0:4])\n",
        "print(s[6:7])\n",
        "print(s[6:20])\n"
      ],
      "metadata": {
        "id": "AFlT7mTD4hn2"
      },
      "execution_count": null,
      "outputs": []
    },
    {
      "cell_type": "code",
      "source": [
        "def print_palindrom(str_):\n",
        "    if str_ == str_[::-1]:\n",
        "        print(f\"{str_} is a palindrome\")\n",
        "    else:\n",
        "        print(f\"str_} is not a palindrome\")\n",
        "\n",
        "\n",
        "str_ = input(\"Enter a string: \")\n",
        "\n",
        "\n",
        "print_palindrom(str_)\n",
        "\n",
        "\n",
        "\n"
      ],
      "metadata": {
        "id": "flbsHlDT7FGi"
      },
      "execution_count": null,
      "outputs": []
    },
    {
      "cell_type": "code",
      "source": [
        "word = input(\"Enter a word: \")\n",
        "\n",
        "if word == 'banana':\n",
        "    print('All right, bananas.')\n",
        "\n",
        "if word < 'banana':\n",
        "    print('Your word,' + word + ', comes before banana.')\n",
        "elif word > 'banana':\n",
        "    print('Your word,' + word + ', comes after banana.')\n",
        "else:\n",
        "    print('All right, bananas.')\n"
      ],
      "metadata": {
        "id": "bUE7W7mX-NU0"
      },
      "execution_count": null,
      "outputs": []
    },
    {
      "cell_type": "code",
      "source": [
        "# Sample string\n",
        "text = \"  Hello World! Python is fun.  \"\n",
        "\n",
        "# 1. str.capitalize()\n",
        "capitalized_text = text.capitalize()\n",
        "print(\"capitalize:\", capitalized_text)\n",
        "\n",
        "# 2. str.center(width[, fillchar])\n",
        "centered_text = text.center(40, \"*\")\n",
        "print(\"center:\", centered_text)\n",
        "\n",
        "# 3. str.endswith(suffix[, start[, end]])\n",
        "ends_with_fun = text.endswith(\"fun.\")\n",
        "print(\"endswith:\", ends_with_fun)\n",
        "\n",
        "# 4. str.find(sub[, start[, end]])\n",
        "find_python = text.find(\"Python\")\n",
        "print(\"find:\", find_python)\n",
        "\n",
        "# 5. str.lstrip([chars])\n",
        "lstrip_text = text.lstrip()\n",
        "print(\"lstrip:\", f\"'{lstrip_text}'\")\n",
        "\n",
        "# 6. str.replace(old, new[, count])\n",
        "replaced_text = text.replace(\"fun\", \"awesome\")\n",
        "print(\"replace:\", replaced_text)\n",
        "\n",
        "# 7. str.lower()\n",
        "lower_text = text.lower()\n",
        "print(\"lower:\", lower_text)\n",
        "\n",
        "# 8. str.rstrip([chars])\n",
        "rstrip_text = text.rstrip()\n",
        "print(\"rstrip:\", f\"'{rstrip_text}'\")\n",
        "\n",
        "# 9. str.strip([chars])\n",
        "stripped_text = text.strip()\n",
        "print(\"strip:\", f\"'{stripped_text}'\")\n",
        "\n",
        "# 10. str.upper()\n",
        "upper_text = text.upper()\n",
        "print(\"upper:\", upper_text)\n"
      ],
      "metadata": {
        "id": "2ZEk1ncwMMgE"
      },
      "execution_count": null,
      "outputs": []
    },
    {
      "cell_type": "code",
      "source": [
        "greet = 'Hello Bob'\n",
        "zap = greet.lower()\n",
        "print(zap)\n",
        "print(greet)\n",
        "print('Hi There'.lower())"
      ],
      "metadata": {
        "id": "rvBXicwlMjey"
      },
      "execution_count": null,
      "outputs": []
    },
    {
      "cell_type": "code",
      "source": [
        "line = 'Please have a nice day'\n",
        "line.startswith('Please')\n",
        "print('line')\n"
      ],
      "metadata": {
        "id": "xTPjv1CXMysn"
      },
      "execution_count": null,
      "outputs": []
    },
    {
      "cell_type": "code",
      "source": [
        "fruit = 'banana'\n",
        "pos = fruit.find('na')\n",
        "print(pos)\n",
        "\n",
        "aa = fruit.find('z')\n",
        "print(aa)\n",
        "\n"
      ],
      "metadata": {
        "id": "pInJXS27NLfF"
      },
      "execution_count": null,
      "outputs": []
    },
    {
      "cell_type": "code",
      "source": [
        "greet = 'Hello Bob'\n",
        "nnn = greet.upper()\n",
        "print(nnn)\n",
        "\n",
        "www = greet.lower()\n",
        "print(www)\n",
        "\n"
      ],
      "metadata": {
        "id": "m-5N1XvZNspq"
      },
      "execution_count": null,
      "outputs": []
    },
    {
      "cell_type": "code",
      "source": [
        "greet = 'Hello Bob'\n",
        "nstr = greet.replace('Bob','Jane')\n",
        "print(nstr)\n",
        "\n",
        "nstr = greet.replace('o','X')\n",
        "print(nstr)\n",
        "\n"
      ],
      "metadata": {
        "id": "wW0-ckdVOBA7"
      },
      "execution_count": null,
      "outputs": []
    },
    {
      "cell_type": "code",
      "source": [
        "greet = '   Hello Bob  '\n",
        "\n",
        " #greet.lstrip()\n",
        "\n",
        " #greet.rstrip()\n",
        "\n",
        "greet.strip()\n",
        "\n",
        "\n"
      ],
      "metadata": {
        "id": "6n0v8gsbOijM"
      },
      "execution_count": null,
      "outputs": []
    },
    {
      "cell_type": "code",
      "source": [
        "line = 'Please have a nice day'\n",
        "line.startswith('Please')\n",
        "\n",
        "line.startswith('P')\n",
        "\n"
      ],
      "metadata": {
        "id": "lziDcmUqPGX6"
      },
      "execution_count": null,
      "outputs": []
    },
    {
      "cell_type": "code",
      "source": [
        " data = 'From stephen.marquard@uct.ac.za Sat Jan  5 09:14:16 2008'\n",
        " atpos = data.find('@')\n",
        " print(atpos)\n",
        "\n",
        " sppos = data.find(' ',atpos)\n",
        " print(sppos)\n",
        "\n",
        " host = data[atpos+1 : sppos]\n",
        " print(host)\n"
      ],
      "metadata": {
        "id": "BYVGK8Q5P-Bz"
      },
      "execution_count": null,
      "outputs": []
    },
    {
      "cell_type": "code",
      "source": [
        "A = [1, 2, 3, 4, 5]\n",
        "\n",
        "str = str\n",
        "\n",
        "del str\n",
        "text_str = list(map(str, A))\n",
        "\n",
        "jst = \"\".join(text_str)\n",
        "print(jst)"
      ],
      "metadata": {
        "id": "YnZMR-wqUF09"
      },
      "execution_count": null,
      "outputs": []
    }
  ]
}