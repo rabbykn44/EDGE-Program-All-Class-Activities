{
  "nbformat": 4,
  "nbformat_minor": 0,
  "metadata": {
    "colab": {
      "private_outputs": true,
      "provenance": []
    },
    "kernelspec": {
      "name": "python3",
      "display_name": "Python 3"
    },
    "language_info": {
      "name": "python"
    }
  },
  "cells": [
    {
      "cell_type": "code",
      "source": [
        "# Task 1\n",
        "import pandas as pd\n",
        "\n",
        "df = pd.read_csv(\"/content/sample_data/employees_large.csv\")\n",
        "\n",
        "avg_salary_by_dept = df.groupby(\"Department\")[\"Salary\"].mean()\n",
        "\n",
        "highest_paid_dept = avg_salary_by_dept.idxmax()\n",
        "\n",
        "print(\"Average salary by department:\\n\", avg_salary_by_dept)\n",
        "print(\"Department with highest average salary:\", highest_paid_dept)\n"
      ],
      "metadata": {
        "id": "3kLkiDnFzvzf"
      },
      "execution_count": null,
      "outputs": []
    },
    {
      "cell_type": "code",
      "source": [
        "#Task 2\n",
        "import pandas as pd\n",
        "df = pd.read_csv(\"/content/sample_data/sales_large.csv\")\n",
        "total_sales = df.groupby([\"Region\", \"Product\"])[\"Sales\"].sum()\n",
        "# Change 'product' to 'Product' to match the column name in total_sales\n",
        "highest_selling_product = total_sales.groupby(\"Product\").sum().idxmax()\n",
        "print(\"Total sales per product in each region:\\n\", total_sales)\n",
        "print(\"Product with highest total sales:\", highest_selling_product)"
      ],
      "metadata": {
        "id": "6KSPNbtP11mh"
      },
      "execution_count": null,
      "outputs": []
    },
    {
      "cell_type": "code",
      "source": [
        "#Task 3\n",
        "\n",
        "import numpy as np\n",
        "A = np.array([[2, 4, 6], [1, 3, 5], [7, 9, 11]])\n",
        "B = np.array([[8, 5, 2], [7, 4, 1], [6, 3, 0]])\n",
        "sum_AB = A + B\n",
        "product_AB = A * B\n",
        "dot_product = np.dot(A, B.T)\n",
        "det_A = np.linalg.det(A)\n",
        "print(\"Element-wise sum:\\n\", sum_AB)\n",
        "print(\"Element-wise product:\\n\", product_AB)\n",
        "print(\"Dot product A * B^T:\\n\", dot_product)\n",
        "print(\"Determinant of A:\", det_A)"
      ],
      "metadata": {
        "id": "b0AfnuwV17KE"
      },
      "execution_count": null,
      "outputs": []
    },
    {
      "cell_type": "code",
      "source": [
        "#Task 4\n",
        "import numpy as np\n",
        "data = np.random.rand(10000) * 100\n",
        "mean_val = np.mean(data)\n",
        "median_val = np.median(data)\n",
        "std_dev = np.std(data)\n",
        "min_val = np.min(data)\n",
        "max_val = np.max(data)\n",
        "\n",
        "count_above_mean = np.sum(data > mean_val)\n",
        "normalized_data = (data - min_val) / (max_val - min_val)\n",
        "print(\"Mean:\", mean_val)\n",
        "print(\"Median:\", median_val)\n",
        "print(\"Standard Deviation:\", std_dev)\n",
        "print(\"Min Value:\", min_val, \"Max Value:\", max_val)\n",
        "print(\"Count above mean:\", count_above_mean)\n",
        "print(\"First 10 normalized values:\", normalized_data[:10])"
      ],
      "metadata": {
        "id": "_e8LzWKd18ti"
      },
      "execution_count": null,
      "outputs": []
    },
    {
      "cell_type": "code",
      "source": [
        "#Task 5\n",
        "\n",
        "temperatures = [28, 32, 35, 31, 29, 30, 33, 36, 27, 25, 34, 30, 29, 37, 38, 26, 31, 35, 33, 32, 36,\n",
        "34, 29, 28, 27, 35, 32, 30, 31, 33]\n",
        "above_32 = [temp for temp in temperatures if temp > 32]\n",
        "classified_temps = [(temp, \"Hot\" if temp > 35 else \"Warm\" if temp >= 30 else \"Cool\") for temp in\n",
        "temperatures]\n",
        "avg_temp = sum(temperatures) / len(temperatures)\n",
        "temp_differences = [temp - avg_temp for temp in temperatures]\n",
        "print(\"Temperatures above 32°C:\", above_32)\n",
        "print(\"Classified Temperatures:\", classified_temps)\n",
        "print(\"Temperature Differences from Average:\", temp_differences)"
      ],
      "metadata": {
        "id": "loHSuEqy2Knz"
      },
      "execution_count": null,
      "outputs": []
    }
  ]
}