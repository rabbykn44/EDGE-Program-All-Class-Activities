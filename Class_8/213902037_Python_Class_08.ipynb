{
  "nbformat": 4,
  "nbformat_minor": 0,
  "metadata": {
    "colab": {
      "private_outputs": true,
      "provenance": []
    },
    "kernelspec": {
      "name": "python3",
      "display_name": "Python 3"
    },
    "language_info": {
      "name": "python"
    }
  },
  "cells": [
    {
      "cell_type": "code",
      "source": [
        "dict_ = dict()\n",
        "dict_['abc'] = 34\n",
        "dict_['xyz'] = {1: 23, 2: 56}\n",
        "dict_[3] = [2, 4, 5]\n",
        "\n",
        "print(dict_)\n",
        "print(dict_['abc'])\n",
        "print(dict_['xyz'][2])\n",
        "print(dict_[3][2])\n",
        "\n",
        "for item in dict_.items():\n",
        "    print(item)\n"
      ],
      "metadata": {
        "id": "hRMtZ5Uz60Xb"
      },
      "execution_count": null,
      "outputs": []
    },
    {
      "cell_type": "code",
      "source": [
        "my_dict = {'name': 'Alice', 'age': 25, 'city': 'New York'}\n",
        "print(my_dict['name'])\n",
        "print(my_dict)\n",
        "my_dict['job'] = 'Engineer'\n",
        "print(my_dict)\n",
        "my_dict['city'] = 'San Francisco'\n",
        "print(my_dict)\n",
        "print('age' in my_dict)"
      ],
      "metadata": {
        "id": "JDPMy3-i72JY"
      },
      "execution_count": null,
      "outputs": []
    },
    {
      "cell_type": "code",
      "source": [
        "from random import randint\n",
        "print(randint(1, 10))\n"
      ],
      "metadata": {
        "id": "HnM7IowE8_Sv"
      },
      "execution_count": null,
      "outputs": []
    },
    {
      "cell_type": "code",
      "source": [
        "import time\n",
        "start_time =(time.time())\n",
        "for i in range(100000):\n",
        "    i+= 1\n",
        "end_time = (time.time())\n",
        "print (end_time - start_time)\n"
      ],
      "metadata": {
        "id": "gDDsqtg--7Wb"
      },
      "execution_count": null,
      "outputs": []
    },
    {
      "cell_type": "code",
      "source": [
        "from random import randint\n",
        "listlen = 1000000\n",
        "list_of_numbers =listlen*[0]\n",
        "dict_of_numbers =dict()\n",
        "for i in range(listlen):\n",
        "  n = randint(1000000,99999999)\n",
        "  list_of_numbers[i] = n\n",
        "  dict_of_numbers[n] = 1"
      ],
      "metadata": {
        "id": "_afGQfVd_xDO"
      },
      "execution_count": null,
      "outputs": []
    },
    {
      "cell_type": "code",
      "source": [
        "product ={'Laptop':10000,'Smart Phone':50000,'smart watch':25000,'Tab':15000,'Smart Tv' :175000}\n",
        "sum_= 0\n",
        "for value in product.values():\n",
        "  sum_ +=value\n",
        "print (sum_)"
      ],
      "metadata": {
        "id": "DKRDe3vmBRLg"
      },
      "execution_count": null,
      "outputs": []
    },
    {
      "cell_type": "code",
      "source": [
        "dict = {'a': 4, 'b': 1, 'c': 6, 'd': 2, 'e': 3}\n",
        "new_dict = {k:v*5 for (k,v) in dict.items()}\n",
        "print(new_dict)\n"
      ],
      "metadata": {
        "id": "ZDdAywNDOaYP"
      },
      "execution_count": null,
      "outputs": []
    },
    {
      "cell_type": "code",
      "source": [
        "dict = {'a': 3, 'b': 12, 'c': 6, 'd': 10, 'e': 15, 'f': 9}\n",
        "new_dict = {k:v for (k,v) in dict.items() if 'a' in k}\n",
        "new_dict = {k: ('even' if v % 2 == 0 else 'odd')  for (k,v) in dict.items()}\n",
        "print(new_dict)"
      ],
      "metadata": {
        "id": "tUrorb-DO2lJ"
      },
      "execution_count": null,
      "outputs": []
    },
    {
      "cell_type": "code",
      "source": [
        "\n",
        "dict_1 = {'a': 4, 'b': 1, 'c': 6, 'd': 2, 'e': 3}\n",
        "new_dict_1 = {k: v * 5 for (k, v) in dict_1.items()}\n",
        "\n",
        "new_dict_2 = {k: v for (k, v) in dict_1.items() if 'a' in k}\n",
        "\n",
        "\n",
        "dict_2 = {'a': 3, 'b': 12, 'c': 6, 'd': 10, 'e': 15, 'f': 9}\n",
        "new_dict_3 = {k: ('even' if v % 2 == 0 else 'odd') for (k, v) in dict_2.items()}\n",
        "\n",
        "dict_3 = {'a': 20, 'b': 12, 'c': 6, 'd': 10, 'e': 15, 'f': 9}\n",
        "new_dict_4 = {k: v for (k, v) in dict_3.items() if v % 2 == 0 and v % 3 == 0}\n",
        "\n",
        "print(new_dict_1)\n",
        "print(new_dict_2)\n",
        "print(new_dict_3)\n",
        "print(new_dict_4)\n"
      ],
      "metadata": {
        "id": "h5ZQdt_ZPMYJ"
      },
      "execution_count": null,
      "outputs": []
    },
    {
      "cell_type": "code",
      "source": [
        "words = [\"apple\", \"banana\", \"cherry\", \"date\", \"elderberry\"]\n",
        "\n",
        "word_lengths = {word: len(word) for word in words}\n",
        "\n",
        "print(word_lengths)\n"
      ],
      "metadata": {
        "id": "yMcifZlSPcyO"
      },
      "execution_count": null,
      "outputs": []
    },
    {
      "cell_type": "code",
      "source": [
        "\n",
        "words = [\"apple\", \"banana\", \"cherry\", \"date\", \"elderberry\"]\n",
        "\n",
        "word_lengths_filtered = {word: len(word) for word in words if len(word) > 5}\n",
        "\n",
        "print(word_lengths_filtered)\n"
      ],
      "metadata": {
        "id": "AYTULYpgQAeC"
      },
      "execution_count": null,
      "outputs": []
    },
    {
      "cell_type": "code",
      "source": [
        "colors = {\"red\": \"#FF0000\", \"green\": \"#00FF00\", \"blue\": \"#0000FF\"}\n",
        "uppercase_colors = {color.upper(): code for color, code in colors.items()}\n",
        "print(uppercase_colors)\n"
      ],
      "metadata": {
        "id": "QVf4hEtkT-We"
      },
      "execution_count": null,
      "outputs": []
    },
    {
      "cell_type": "code",
      "source": [
        "\n",
        "num_dict = {1: 3, 2: 4, 3: 5, 4: 6, 5: 7}\n",
        "even_values_dict = {k: v for k, v in num_dict.items() if v % 2 == 0}\n",
        "print(even_values_dict)\n"
      ],
      "metadata": {
        "id": "0etUZSz0UZhk"
      },
      "execution_count": null,
      "outputs": []
    },
    {
      "cell_type": "code",
      "source": [
        "\n",
        "numbers = [1, 2, 3, 4, 5]\n",
        "\n",
        "multiplied_dict = {num: num * 2 for num in numbers}\n",
        "\n",
        "print(multiplied_dict)\n"
      ],
      "metadata": {
        "id": "5mB4mWcxUdCH"
      },
      "execution_count": null,
      "outputs": []
    },
    {
      "cell_type": "code",
      "source": [
        "num_dict = {\"a\": 15, \"b\": 42, \"c\": 23, \"d\": 8}\n",
        "\n",
        "min_value = min(num_dict.values())\n",
        "max_value = max(num_dict.values())\n",
        "\n",
        "print(\"Minimum Value:\", min_value)\n",
        "print(\"Maximum Value:\", max_value)\n"
      ],
      "metadata": {
        "id": "ic_U5uNlW4RD"
      },
      "execution_count": null,
      "outputs": []
    },
    {
      "cell_type": "code",
      "source": [
        "sample_dict = {\"name\": \"Alice\", \"age\": 25, \"city\": \"New York\"}\n",
        "\n",
        "key_to_check = \"alice\"\n",
        "\n",
        "\n",
        "if key_to_check in sample_dict:\n",
        "    print(f\"The key '{key_to_check}' exists in the dictionary.\")\n",
        "else:\n",
        "    print(f\"The key '{key_to_check}' does not exist in the dictionary.\")\n"
      ],
      "metadata": {
        "id": "DLojDSltXSVk"
      },
      "execution_count": null,
      "outputs": []
    }
  ]
}